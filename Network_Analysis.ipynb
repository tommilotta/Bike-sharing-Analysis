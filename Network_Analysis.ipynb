{
 "cells": [
  {
   "cell_type": "code",
   "execution_count": 1,
   "id": "d5f1a690",
   "metadata": {},
   "outputs": [],
   "source": [
    "import pandas as pd"
   ]
  },
  {
   "cell_type": "markdown",
   "id": "b1d87cfe",
   "metadata": {},
   "source": [
    "### Reading already parsed datasets"
   ]
  },
  {
   "cell_type": "code",
   "execution_count": 9,
   "id": "eca9b44c",
   "metadata": {},
   "outputs": [],
   "source": [
    "NY_df = pd.read_csv('data/newyork_dataset', sep=',',low_memory=False, header=0, encoding='utf8')\n",
    "CHI_df = pd.read_csv('data/chicago_dataset', sep=',',low_memory=False, header=0, encoding='utf8')\n",
    "BOS_df = pd.read_csv('data/boston_dataset', sep=',',low_memory=False, header=0, encoding='utf8')"
   ]
  },
  {
   "cell_type": "markdown",
   "id": "1fa58792",
   "metadata": {},
   "source": [
    "Number of station - nodes for each dataset"
   ]
  },
  {
   "cell_type": "code",
   "execution_count": 10,
   "id": "46d6dbd1",
   "metadata": {},
   "outputs": [
    {
     "name": "stdout",
     "output_type": "stream",
     "text": [
      "NY: # start stations = 784 ; # end stations = 791\n",
      "CHI: # start stations = 571 ; # end stations = 569\n",
      "BOS: # start stations = 268 ; # end stations = 268\n"
     ]
    }
   ],
   "source": [
    "print('NY: # start stations =',(NY_df['start station name'].nunique()), '; # end stations =',(NY_df['end station name'].nunique()))\n",
    "print('CHI: # start stations =',(CHI_df['start station name'].nunique()), '; # end stations =',(CHI_df['end station name'].nunique()))\n",
    "print('BOS: # start stations =',(BOS_df['start station name'].nunique()), '; # end stations =',(BOS_df['end station name'].nunique()))"
   ]
  },
  {
   "cell_type": "markdown",
   "id": "5ba0eaf7",
   "metadata": {},
   "source": [
    "### Adjacency matrices"
   ]
  },
  {
   "cell_type": "code",
   "execution_count": null,
   "id": "4636d23c",
   "metadata": {},
   "outputs": [],
   "source": [
    "nodes = np.array(list(set.union(set(mobility_df.loc[:, mobility_df.columns[0]]), set(mobility_df.loc[:, mobility_df.columns[1]]))))\n",
    "node_position = {}\n",
    "for i, name in enumerate(nodes):\n",
    "    node_position[name] = i\n",
    "nodes_df = pd.DataFrame({'Nodes': nodes})\n",
    "mobility_df['SendId'] = (np.array(list(map(lambda x: node_position[x], mobility_df['Sending Organization']))))\n",
    "mobility_df['RecId']= (np.array(list(map(lambda x: node_position[x], mobility_df['Receiving Organization']))))\n",
    "\n",
    "mobility_serie = mobility_df.groupby(['SendId', 'RecId']).sum()\n",
    "row = np.array(mobility_serie.index.get_level_values(1).tolist())\n",
    "col = np.array(mobility_serie.index.get_level_values(0).tolist())\n",
    "val = mobility_serie.values\n",
    "adj_matrix_crs = sparse.csr_matrix((val.flatten(), (row, col)), shape=(nodes.size, nodes.size))"
   ]
  }
 ],
 "metadata": {
  "kernelspec": {
   "display_name": "Python 3 (ipykernel)",
   "language": "python",
   "name": "python3"
  },
  "language_info": {
   "codemirror_mode": {
    "name": "ipython",
    "version": 3
   },
   "file_extension": ".py",
   "mimetype": "text/x-python",
   "name": "python",
   "nbconvert_exporter": "python",
   "pygments_lexer": "ipython3",
   "version": "3.8.8"
  }
 },
 "nbformat": 4,
 "nbformat_minor": 5
}
