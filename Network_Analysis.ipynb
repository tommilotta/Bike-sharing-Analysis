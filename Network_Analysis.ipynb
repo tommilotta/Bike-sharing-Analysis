{
 "cells": [
  {
   "cell_type": "code",
   "execution_count": 23,
   "id": "d5f1a690",
   "metadata": {},
   "outputs": [],
   "source": [
    "import pandas as pd\n",
    "import numpy as np\n",
    "import matplotlib.pyplot as plt\n",
    "import seaborn as sns\n",
    "from scipy import sparse\n",
    "from collections import Counter\n",
    "import networkx as nx\n",
    "from scipy import stats"
   ]
  },
  {
   "cell_type": "markdown",
   "id": "b1d87cfe",
   "metadata": {},
   "source": [
    "### Reading already parsed datasets"
   ]
  },
  {
   "cell_type": "code",
   "execution_count": 24,
   "id": "eca9b44c",
   "metadata": {},
   "outputs": [],
   "source": [
    "NY_df = pd.read_csv('data/newyork_dataset', sep=',',low_memory=False, header=0, encoding='utf8')\n",
    "CHI_df = pd.read_csv('data/chicago_dataset', sep=',',low_memory=False, header=0, encoding='utf8')\n",
    "BOS_df = pd.read_csv('data/boston_dataset', sep=',',low_memory=False, header=0, encoding='utf8')"
   ]
  },
  {
   "cell_type": "markdown",
   "id": "1fa58792",
   "metadata": {},
   "source": [
    "Number of station - nodes for each dataset"
   ]
  },
  {
   "cell_type": "code",
   "execution_count": 25,
   "id": "46d6dbd1",
   "metadata": {},
   "outputs": [
    {
     "name": "stdout",
     "output_type": "stream",
     "text": [
      "NY: # start stations = 784 ; # end stations = 791\n",
      "CHI: # start stations = 571 ; # end stations = 569\n",
      "BOS: # start stations = 268 ; # end stations = 268\n"
     ]
    }
   ],
   "source": [
    "print('NY: # start stations =',(NY_df['start station name'].nunique()), '; # end stations =',(NY_df['end station name'].nunique()))\n",
    "print('CHI: # start stations =',(CHI_df['start station name'].nunique()), '; # end stations =',(CHI_df['end station name'].nunique()))\n",
    "print('BOS: # start stations =',(BOS_df['start station name'].nunique()), '; # end stations =',(BOS_df['end station name'].nunique()))"
   ]
  },
  {
   "cell_type": "markdown",
   "id": "5ba0eaf7",
   "metadata": {},
   "source": [
    "### Network creation"
   ]
  },
  {
   "cell_type": "code",
   "execution_count": 26,
   "id": "114a7e16",
   "metadata": {},
   "outputs": [],
   "source": [
    "def network_creation(df):\n",
    "    nodes = np.array(list(set.union(set(df.loc[:, 'start station name']), set(df.loc[:, 'end station name']))))\n",
    "    edges = zip(df['start station name'], df['end station name'])\n",
    "    G = nx.DiGraph()\n",
    "    G.add_nodes_from(nodes)\n",
    "    G.add_edges_from(edges)\n",
    "    print(nx.info(G))\n",
    "    return G"
   ]
  },
  {
   "cell_type": "code",
   "execution_count": 27,
   "id": "fe0fc55e",
   "metadata": {
    "scrolled": true
   },
   "outputs": [
    {
     "name": "stdout",
     "output_type": "stream",
     "text": [
      "DiGraph with 791 nodes and 187520 edges\n",
      "DiGraph with 573 nodes and 43057 edges\n",
      "DiGraph with 268 nodes and 23679 edges\n"
     ]
    }
   ],
   "source": [
    "NY_graph = network_creation(NY_df)\n",
    "CHI_graph = network_creation(CHI_df)\n",
    "BOS_graph = network_creation(BOS_df)"
   ]
  },
  {
   "cell_type": "markdown",
   "id": "b0257e73",
   "metadata": {},
   "source": [
    "### Nodes Degrees"
   ]
  },
  {
   "cell_type": "code",
   "execution_count": 78,
   "id": "afc1a000",
   "metadata": {},
   "outputs": [],
   "source": [
    "import operator\n",
    "\n",
    "def nodes_degrees(G):\n",
    "    in_degrees = dict(G.in_degree(G.nodes()))\n",
    "    out_degrees = dict(G.out_degree(G.nodes()))\n",
    "    degrees = dict(G.degree(G.nodes()))\n",
    "    nx.set_node_attributes(G, in_degrees, 'in degree')\n",
    "    nx.set_node_attributes(G, out_degrees, 'out degree')\n",
    "    nx.set_node_attributes(G, degrees, 'degree')\n",
    "    df = pd.DataFrame.from_dict({'Nodes':G.nodes(), 'degree':list(degrees.values()), 'in degree':list(in_degrees.values()),\n",
    "                                'out degree':list(out_degrees.values())})\n",
    "    print('Top 5 stations by degree')\n",
    "    display(df[['Nodes', 'degree']].sort_values('degree', ascending=False).head(5))\n",
    "    print('\\n Top 5 stations by in degree')\n",
    "    display(df[['Nodes', 'in degree']].sort_values('in degree', ascending=False).head(5))\n",
    "    print('\\n Top 5 stations by out degree')\n",
    "    display(df[['Nodes', 'out degree']].sort_values('out degree', ascending=False).head(5))\n",
    "    return G, df"
   ]
  },
  {
   "cell_type": "code",
   "execution_count": 79,
   "id": "b3cf8133",
   "metadata": {
    "scrolled": true
   },
   "outputs": [
    {
     "name": "stdout",
     "output_type": "stream",
     "text": [
      "Top 5 stations by degree\n"
     ]
    },
    {
     "data": {
      "text/html": [
       "<div>\n",
       "<style scoped>\n",
       "    .dataframe tbody tr th:only-of-type {\n",
       "        vertical-align: middle;\n",
       "    }\n",
       "\n",
       "    .dataframe tbody tr th {\n",
       "        vertical-align: top;\n",
       "    }\n",
       "\n",
       "    .dataframe thead th {\n",
       "        text-align: right;\n",
       "    }\n",
       "</style>\n",
       "<table border=\"1\" class=\"dataframe\">\n",
       "  <thead>\n",
       "    <tr style=\"text-align: right;\">\n",
       "      <th></th>\n",
       "      <th>Nodes</th>\n",
       "      <th>degree</th>\n",
       "    </tr>\n",
       "  </thead>\n",
       "  <tbody>\n",
       "    <tr>\n",
       "      <th>154</th>\n",
       "      <td>E 17 St &amp; Broadway</td>\n",
       "      <td>985</td>\n",
       "    </tr>\n",
       "    <tr>\n",
       "      <th>155</th>\n",
       "      <td>Pershing Square North</td>\n",
       "      <td>979</td>\n",
       "    </tr>\n",
       "    <tr>\n",
       "      <th>400</th>\n",
       "      <td>Broadway &amp; E 22 St</td>\n",
       "      <td>968</td>\n",
       "    </tr>\n",
       "    <tr>\n",
       "      <th>502</th>\n",
       "      <td>Cleveland Pl &amp; Spring St</td>\n",
       "      <td>881</td>\n",
       "    </tr>\n",
       "    <tr>\n",
       "      <th>252</th>\n",
       "      <td>Grand St &amp; Elizabeth St</td>\n",
       "      <td>877</td>\n",
       "    </tr>\n",
       "  </tbody>\n",
       "</table>\n",
       "</div>"
      ],
      "text/plain": [
       "                        Nodes  degree\n",
       "154        E 17 St & Broadway     985\n",
       "155     Pershing Square North     979\n",
       "400        Broadway & E 22 St     968\n",
       "502  Cleveland Pl & Spring St     881\n",
       "252   Grand St & Elizabeth St     877"
      ]
     },
     "metadata": {},
     "output_type": "display_data"
    },
    {
     "name": "stdout",
     "output_type": "stream",
     "text": [
      "\n",
      " Top 5 stations by in degree\n"
     ]
    },
    {
     "data": {
      "text/html": [
       "<div>\n",
       "<style scoped>\n",
       "    .dataframe tbody tr th:only-of-type {\n",
       "        vertical-align: middle;\n",
       "    }\n",
       "\n",
       "    .dataframe tbody tr th {\n",
       "        vertical-align: top;\n",
       "    }\n",
       "\n",
       "    .dataframe thead th {\n",
       "        text-align: right;\n",
       "    }\n",
       "</style>\n",
       "<table border=\"1\" class=\"dataframe\">\n",
       "  <thead>\n",
       "    <tr style=\"text-align: right;\">\n",
       "      <th></th>\n",
       "      <th>Nodes</th>\n",
       "      <th>in degree</th>\n",
       "    </tr>\n",
       "  </thead>\n",
       "  <tbody>\n",
       "    <tr>\n",
       "      <th>154</th>\n",
       "      <td>E 17 St &amp; Broadway</td>\n",
       "      <td>491</td>\n",
       "    </tr>\n",
       "    <tr>\n",
       "      <th>400</th>\n",
       "      <td>Broadway &amp; E 22 St</td>\n",
       "      <td>478</td>\n",
       "    </tr>\n",
       "    <tr>\n",
       "      <th>155</th>\n",
       "      <td>Pershing Square North</td>\n",
       "      <td>466</td>\n",
       "    </tr>\n",
       "    <tr>\n",
       "      <th>47</th>\n",
       "      <td>1 Ave &amp; E 68 St</td>\n",
       "      <td>456</td>\n",
       "    </tr>\n",
       "    <tr>\n",
       "      <th>502</th>\n",
       "      <td>Cleveland Pl &amp; Spring St</td>\n",
       "      <td>450</td>\n",
       "    </tr>\n",
       "  </tbody>\n",
       "</table>\n",
       "</div>"
      ],
      "text/plain": [
       "                        Nodes  in degree\n",
       "154        E 17 St & Broadway        491\n",
       "400        Broadway & E 22 St        478\n",
       "155     Pershing Square North        466\n",
       "47            1 Ave & E 68 St        456\n",
       "502  Cleveland Pl & Spring St        450"
      ]
     },
     "metadata": {},
     "output_type": "display_data"
    },
    {
     "name": "stdout",
     "output_type": "stream",
     "text": [
      "\n",
      " Top 5 stations by out degree\n"
     ]
    },
    {
     "data": {
      "text/html": [
       "<div>\n",
       "<style scoped>\n",
       "    .dataframe tbody tr th:only-of-type {\n",
       "        vertical-align: middle;\n",
       "    }\n",
       "\n",
       "    .dataframe tbody tr th {\n",
       "        vertical-align: top;\n",
       "    }\n",
       "\n",
       "    .dataframe thead th {\n",
       "        text-align: right;\n",
       "    }\n",
       "</style>\n",
       "<table border=\"1\" class=\"dataframe\">\n",
       "  <thead>\n",
       "    <tr style=\"text-align: right;\">\n",
       "      <th></th>\n",
       "      <th>Nodes</th>\n",
       "      <th>out degree</th>\n",
       "    </tr>\n",
       "  </thead>\n",
       "  <tbody>\n",
       "    <tr>\n",
       "      <th>155</th>\n",
       "      <td>Pershing Square North</td>\n",
       "      <td>513</td>\n",
       "    </tr>\n",
       "    <tr>\n",
       "      <th>154</th>\n",
       "      <td>E 17 St &amp; Broadway</td>\n",
       "      <td>494</td>\n",
       "    </tr>\n",
       "    <tr>\n",
       "      <th>400</th>\n",
       "      <td>Broadway &amp; E 22 St</td>\n",
       "      <td>490</td>\n",
       "    </tr>\n",
       "    <tr>\n",
       "      <th>252</th>\n",
       "      <td>Grand St &amp; Elizabeth St</td>\n",
       "      <td>444</td>\n",
       "    </tr>\n",
       "    <tr>\n",
       "      <th>480</th>\n",
       "      <td>Broadway &amp; E 14 St</td>\n",
       "      <td>436</td>\n",
       "    </tr>\n",
       "  </tbody>\n",
       "</table>\n",
       "</div>"
      ],
      "text/plain": [
       "                       Nodes  out degree\n",
       "155    Pershing Square North         513\n",
       "154       E 17 St & Broadway         494\n",
       "400       Broadway & E 22 St         490\n",
       "252  Grand St & Elizabeth St         444\n",
       "480       Broadway & E 14 St         436"
      ]
     },
     "metadata": {},
     "output_type": "display_data"
    }
   ],
   "source": [
    "NY_graph, NY_nodes = nodes_degrees(NY_graph)"
   ]
  },
  {
   "cell_type": "code",
   "execution_count": 58,
   "id": "5561455d",
   "metadata": {},
   "outputs": [
    {
     "name": "stdout",
     "output_type": "stream",
     "text": [
      "[('Streeter Dr & Grand Ave', 238), ('Damen Ave & Pierce Ave', 228), ('Daley Center Plaza', 227), ('Clinton St & Madison St', 224), ('Michigan Ave & Oak St', 214), ('Lake Shore Dr & Monroe St', 205), ('Clinton St & Washington Blvd', 205), ('Franklin St & Monroe St', 203), ('Ashland Ave & Division St', 201), ('Theater on the Lake', 200)]\n",
      "[('Daley Center Plaza', 264), ('Clinton St & Madison St', 249), ('Canal St & Adams St', 246), ('Clinton St & Washington Blvd', 245), ('Franklin St & Monroe St', 242), ('Canal St & Madison St', 241), ('Orleans St & Merchandise Mart Plaza', 232), ('Dearborn St & Monroe St', 223), ('Streeter Dr & Grand Ave', 219), ('Michigan Ave & Washington St', 216)]\n",
      "[('Daley Center Plaza', 491), ('Clinton St & Madison St', 473), ('Streeter Dr & Grand Ave', 457), ('Clinton St & Washington Blvd', 450), ('Franklin St & Monroe St', 445), ('Canal St & Adams St', 435), ('Damen Ave & Pierce Ave', 434), ('Canal St & Madison St', 417), ('Dearborn St & Monroe St', 416), ('Orleans St & Merchandise Mart Plaza', 413)]\n"
     ]
    }
   ],
   "source": [
    "CHI_graph, CHI_nodes = nodes_degrees(CHI_graph)"
   ]
  },
  {
   "cell_type": "code",
   "execution_count": 59,
   "id": "7cf6ac9b",
   "metadata": {},
   "outputs": [
    {
     "name": "stdout",
     "output_type": "stream",
     "text": [
      "[('Harvard Square at Mass Ave/ Dunster', 190), ('Christian Science Plaza - Massachusetts Ave at Westland Ave', 187), ('South Station - 700 Atlantic Ave', 183), ('Back Bay T Stop - Dartmouth St at Stuart St', 180), ('Boylston St at Massachusetts Ave', 179), ('Copley Square - Dartmouth St at Boylston St', 179), ('MIT at Mass Ave / Amherst St', 178), ('Dartmouth St at Newbury St', 178), ('Central Square at Mass Ave / Essex St', 176), ('MIT Stata Center at Vassar St / Main St', 174)]\n",
      "[('Christian Science Plaza - Massachusetts Ave at Westland Ave', 188), ('MIT at Mass Ave / Amherst St', 187), ('Back Bay T Stop - Dartmouth St at Stuart St', 186), ('Central Square at Mass Ave / Essex St', 182), ('Dartmouth St at Newbury St', 181), ('Boylston St at Massachusetts Ave', 178), ('Harvard Square at Mass Ave/ Dunster', 177), ('Copley Square - Dartmouth St at Boylston St', 176), ('MIT Stata Center at Vassar St / Main St', 176), ('South Station - 700 Atlantic Ave', 175)]\n",
      "[('Christian Science Plaza - Massachusetts Ave at Westland Ave', 375), ('Harvard Square at Mass Ave/ Dunster', 367), ('Back Bay T Stop - Dartmouth St at Stuart St', 366), ('MIT at Mass Ave / Amherst St', 365), ('Dartmouth St at Newbury St', 359), ('South Station - 700 Atlantic Ave', 358), ('Central Square at Mass Ave / Essex St', 358), ('Boylston St at Massachusetts Ave', 357), ('Copley Square - Dartmouth St at Boylston St', 355), ('MIT Stata Center at Vassar St / Main St', 350)]\n"
     ]
    }
   ],
   "source": [
    "BOS_graph, BOS_nodes = nodes_degrees(BOS_graph)"
   ]
  }
 ],
 "metadata": {
  "kernelspec": {
   "display_name": "Python 3 (ipykernel)",
   "language": "python",
   "name": "python3"
  },
  "language_info": {
   "codemirror_mode": {
    "name": "ipython",
    "version": 3
   },
   "file_extension": ".py",
   "mimetype": "text/x-python",
   "name": "python",
   "nbconvert_exporter": "python",
   "pygments_lexer": "ipython3",
   "version": "3.8.8"
  }
 },
 "nbformat": 4,
 "nbformat_minor": 5
}
